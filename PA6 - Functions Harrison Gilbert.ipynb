{
 "cells": [
  {
   "cell_type": "markdown",
   "id": "253ee38c",
   "metadata": {},
   "source": [
    "# Programming Assignment #6\n",
    "## Harrison Gilbert, Fall 2023, CS-115, Version 1"
   ]
  },
  {
   "cell_type": "markdown",
   "id": "174d4f70",
   "metadata": {},
   "source": [
    "### Task1: Write a Python program will calculate the area and perimeter of a triangle using two different functions named calcArea() and calcPerimeter(). Your program should prompt the user for the length of three sides of the triangle. Each function should take the lengths of the sides as arguments and return the output of their respective calculations. As an added feature, set the default values of your parameters to 1 so if you call either function without parameters, it will still produce output) (I recommend using Heron’s Method for calculating the area of a triangle.)"
   ]
  },
  {
   "cell_type": "code",
   "execution_count": 3,
   "id": "0cc00ebf",
   "metadata": {},
   "outputs": [
    {
     "name": "stdout",
     "output_type": "stream",
     "text": [
      "What is the length of side 1? 3\n",
      "What is the length of side 2? 4\n",
      "What is the length of side 3? 5\n",
      "6.0\n",
      "What is the length of side 1? 3\n",
      "What is the length of side 2? 4\n",
      "What is the length of side 3? 5\n",
      "12\n"
     ]
    }
   ],
   "source": [
    "import math\n",
    "def calcArea():\n",
    "# Area = Square root of√s(s - a)(s - b)(s - c) where s is half the perimeter, or (a + b + c)/2.\n",
    "    side1 = int(input(\"What is the length of side 1? \"))\n",
    "    side2 = int(input(\"What is the length of side 2? \"))\n",
    "    side3 = int(input(\"What is the length of side 3? \"))\n",
    "    s = (side1 + side2 + side3)/2\n",
    "    return math.sqrt(s*(s-side1)*(s-side2)*(s-side3))\n",
    "\n",
    "def calcPerimeter():\n",
    "    side1 = int(input(\"What is the length of side 1? \"))\n",
    "    side2 = int(input(\"What is the length of side 2? \"))\n",
    "    side3 = int(input(\"What is the length of side 3? \"))\n",
    "    return side1 + side2 + side3\n",
    "\n",
    "print(calcArea())\n",
    "print(calcPerimeter())"
   ]
  },
  {
   "cell_type": "markdown",
   "id": "ebcc8f24",
   "metadata": {},
   "source": [
    "### Task2: Write a Python program to play “Guess the Number”. Your program should generate a random number between 1 and 1000 and then prompt the user for a guess. Possible responses to the guess should be ‘Too high! Guess again’, ‘Too low! Guess again’, and ‘Correct!’.\n"
   ]
  },
  {
   "cell_type": "code",
   "execution_count": 8,
   "id": "06d26ad7",
   "metadata": {},
   "outputs": [
    {
     "name": "stdout",
     "output_type": "stream",
     "text": [
      "Pick a number between 1-1000: 1\n",
      "Too low! Guess again!\n",
      "Pick a number between 1-1000: 500\n",
      "Too low! Guess again!\n",
      "Pick a number between 1-1000: 700\n",
      "Too low! Guess again!\n",
      "Pick a number between 1-1000: 800\n",
      "Too low! Guess again!\n",
      "Pick a number between 1-1000: 900\n",
      "Too low! Guess again!\n",
      "Pick a number between 1-1000: 100\n",
      "Too low! Guess again!\n",
      "Pick a number between 1-1000: 999\n",
      "Too High! Guess again!\n",
      "Pick a number between 1-1000: 950\n",
      "Too low! Guess again!\n",
      "Pick a number between 1-1000: 980\n",
      "Too low! Guess again!\n",
      "Pick a number between 1-1000: 990\n",
      "Too low! Guess again!\n",
      "Pick a number between 1-1000: 991\n",
      "Too low! Guess again!\n",
      "Pick a number between 1-1000: 993\n",
      "Too High! Guess again!\n",
      "Pick a number between 1-1000: 992\n",
      "Correct!\n"
     ]
    },
    {
     "ename": "KeyboardInterrupt",
     "evalue": "Interrupted by user",
     "output_type": "error",
     "traceback": [
      "\u001b[0;31m---------------------------------------------------------------------------\u001b[0m",
      "\u001b[0;31mKeyboardInterrupt\u001b[0m                         Traceback (most recent call last)",
      "Cell \u001b[0;32mIn[8], line 13\u001b[0m\n\u001b[1;32m     10\u001b[0m num \u001b[38;5;241m=\u001b[39m random\u001b[38;5;241m.\u001b[39mrandint(\u001b[38;5;241m1\u001b[39m,\u001b[38;5;241m1000\u001b[39m)\n\u001b[1;32m     12\u001b[0m \u001b[38;5;28;01mwhile\u001b[39;00m \u001b[38;5;28;01mTrue\u001b[39;00m:\n\u001b[0;32m---> 13\u001b[0m     usr \u001b[38;5;241m=\u001b[39m \u001b[38;5;28mint\u001b[39m(\u001b[38;5;28minput\u001b[39m(\u001b[38;5;124m\"\u001b[39m\u001b[38;5;124mPick a number between 1-1000: \u001b[39m\u001b[38;5;124m\"\u001b[39m))\n\u001b[1;32m     14\u001b[0m     evalGuess(usr, num)\n",
      "File \u001b[0;32m~/anaconda3/lib/python3.11/site-packages/ipykernel/kernelbase.py:1175\u001b[0m, in \u001b[0;36mKernel.raw_input\u001b[0;34m(self, prompt)\u001b[0m\n\u001b[1;32m   1171\u001b[0m \u001b[38;5;28;01mif\u001b[39;00m \u001b[38;5;129;01mnot\u001b[39;00m \u001b[38;5;28mself\u001b[39m\u001b[38;5;241m.\u001b[39m_allow_stdin:\n\u001b[1;32m   1172\u001b[0m     \u001b[38;5;28;01mraise\u001b[39;00m StdinNotImplementedError(\n\u001b[1;32m   1173\u001b[0m         \u001b[38;5;124m\"\u001b[39m\u001b[38;5;124mraw_input was called, but this frontend does not support input requests.\u001b[39m\u001b[38;5;124m\"\u001b[39m\n\u001b[1;32m   1174\u001b[0m     )\n\u001b[0;32m-> 1175\u001b[0m \u001b[38;5;28;01mreturn\u001b[39;00m \u001b[38;5;28mself\u001b[39m\u001b[38;5;241m.\u001b[39m_input_request(\n\u001b[1;32m   1176\u001b[0m     \u001b[38;5;28mstr\u001b[39m(prompt),\n\u001b[1;32m   1177\u001b[0m     \u001b[38;5;28mself\u001b[39m\u001b[38;5;241m.\u001b[39m_parent_ident[\u001b[38;5;124m\"\u001b[39m\u001b[38;5;124mshell\u001b[39m\u001b[38;5;124m\"\u001b[39m],\n\u001b[1;32m   1178\u001b[0m     \u001b[38;5;28mself\u001b[39m\u001b[38;5;241m.\u001b[39mget_parent(\u001b[38;5;124m\"\u001b[39m\u001b[38;5;124mshell\u001b[39m\u001b[38;5;124m\"\u001b[39m),\n\u001b[1;32m   1179\u001b[0m     password\u001b[38;5;241m=\u001b[39m\u001b[38;5;28;01mFalse\u001b[39;00m,\n\u001b[1;32m   1180\u001b[0m )\n",
      "File \u001b[0;32m~/anaconda3/lib/python3.11/site-packages/ipykernel/kernelbase.py:1217\u001b[0m, in \u001b[0;36mKernel._input_request\u001b[0;34m(self, prompt, ident, parent, password)\u001b[0m\n\u001b[1;32m   1214\u001b[0m             \u001b[38;5;28;01mbreak\u001b[39;00m\n\u001b[1;32m   1215\u001b[0m \u001b[38;5;28;01mexcept\u001b[39;00m \u001b[38;5;167;01mKeyboardInterrupt\u001b[39;00m:\n\u001b[1;32m   1216\u001b[0m     \u001b[38;5;66;03m# re-raise KeyboardInterrupt, to truncate traceback\u001b[39;00m\n\u001b[0;32m-> 1217\u001b[0m     \u001b[38;5;28;01mraise\u001b[39;00m \u001b[38;5;167;01mKeyboardInterrupt\u001b[39;00m(\u001b[38;5;124m\"\u001b[39m\u001b[38;5;124mInterrupted by user\u001b[39m\u001b[38;5;124m\"\u001b[39m) \u001b[38;5;28;01mfrom\u001b[39;00m \u001b[38;5;28;01mNone\u001b[39;00m\n\u001b[1;32m   1218\u001b[0m \u001b[38;5;28;01mexcept\u001b[39;00m \u001b[38;5;167;01mException\u001b[39;00m:\n\u001b[1;32m   1219\u001b[0m     \u001b[38;5;28mself\u001b[39m\u001b[38;5;241m.\u001b[39mlog\u001b[38;5;241m.\u001b[39mwarning(\u001b[38;5;124m\"\u001b[39m\u001b[38;5;124mInvalid Message:\u001b[39m\u001b[38;5;124m\"\u001b[39m, exc_info\u001b[38;5;241m=\u001b[39m\u001b[38;5;28;01mTrue\u001b[39;00m)\n",
      "\u001b[0;31mKeyboardInterrupt\u001b[0m: Interrupted by user"
     ]
    }
   ],
   "source": [
    "import random\n",
    "def evalGuess(guess, num):\n",
    "    if guess > num:\n",
    "        print(\"Too High! Guess again!\")\n",
    "    elif guess < num:\n",
    "        print(\"Too low! Guess again!\")\n",
    "    else:\n",
    "        print(\"Correct!\")\n",
    "        \n",
    "num = random.randint(1,1000)\n",
    "\n",
    "while True:\n",
    "    usr = int(input(\"Pick a number between 1-1000: \"))\n",
    "    evalGuess(usr, num)"
   ]
  },
  {
   "cell_type": "markdown",
   "id": "0baf96fa",
   "metadata": {},
   "source": [
    "### Task3: Write a Python program to calculate the mean temperature over a set of Fahrenheit temperature values. Your program should calculate the mean in a function called meanTemp()and then print message that indicates the number of days your mean represents and the mean (see below). Your function should be flexible so that you can pass any number of temperatures to it. You do not need to get input from the user; simply include the temperatures in the function parameter list."
   ]
  },
  {
   "cell_type": "code",
   "execution_count": 14,
   "id": "11048e17",
   "metadata": {},
   "outputs": [
    {
     "name": "stdout",
     "output_type": "stream",
     "text": [
      "Over a period of 7 days, the average temperature was 72.6\n"
     ]
    }
   ],
   "source": [
    "farTemps = [80, 78, 66, 67, 74, 75, 68]\n",
    "\n",
    "def meanTemp(*args):\n",
    "    print(f\"Over a period of {len(args)} days, the average temperature was {round(sum(args)/len(args), 1)}\")\n",
    "        \n",
    "meanTemp(80, 78, 66, 67, 74, 75, 68)"
   ]
  },
  {
   "cell_type": "code",
   "execution_count": null,
   "id": "f6f0a85c",
   "metadata": {},
   "outputs": [],
   "source": []
  }
 ],
 "metadata": {
  "kernelspec": {
   "display_name": "Python 3 (ipykernel)",
   "language": "python",
   "name": "python3"
  },
  "language_info": {
   "codemirror_mode": {
    "name": "ipython",
    "version": 3
   },
   "file_extension": ".py",
   "mimetype": "text/x-python",
   "name": "python",
   "nbconvert_exporter": "python",
   "pygments_lexer": "ipython3",
   "version": "3.11.4"
  }
 },
 "nbformat": 4,
 "nbformat_minor": 5
}
