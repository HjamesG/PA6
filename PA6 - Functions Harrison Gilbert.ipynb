{
 "cells": [
  {
   "cell_type": "markdown",
   "id": "253ee38c",
   "metadata": {},
   "source": [
    "# Programming Assignment #6\n",
    "## Harrison Gilbert, Fall 2023, CS-115, Version 1"
   ]
  },
  {
   "cell_type": "markdown",
   "id": "174d4f70",
   "metadata": {},
   "source": [
    "### Task1: Write a Python program will calculate the area and perimeter of a triangle using two different functions named calcArea() and calcPerimeter(). Your program should prompt the user for the length of three sides of the triangle. Each function should take the lengths of the sides as arguments and return the output of their respective calculations. As an added feature, set the default values of your parameters to 1 so if you call either function without parameters, it will still produce output) (I recommend using Heron’s Method for calculating the area of a triangle.)"
   ]
  },
  {
   "cell_type": "code",
   "execution_count": 3,
   "id": "0cc00ebf",
   "metadata": {},
   "outputs": [
    {
     "name": "stdout",
     "output_type": "stream",
     "text": [
      "What is the length of side 1? 3\n",
      "What is the length of side 2? 4\n",
      "What is the length of side 3? 5\n",
      "6.0\n",
      "What is the length of side 1? 3\n",
      "What is the length of side 2? 4\n",
      "What is the length of side 3? 5\n",
      "12\n"
     ]
    }
   ],
   "source": [
    "import math\n",
    "def calcArea():\n",
    "# Area = Square root of√s(s - a)(s - b)(s - c) where s is half the perimeter, or (a + b + c)/2.\n",
    "    side1 = int(input(\"What is the length of side 1? \"))\n",
    "    side2 = int(input(\"What is the length of side 2? \"))\n",
    "    side3 = int(input(\"What is the length of side 3? \"))\n",
    "    s = (side1 + side2 + side3)/2\n",
    "    return math.sqrt(s*(s-side1)*(s-side2)*(s-side3))\n",
    "\n",
    "def calcPerimeter():\n",
    "    side1 = int(input(\"What is the length of side 1? \"))\n",
    "    side2 = int(input(\"What is the length of side 2? \"))\n",
    "    side3 = int(input(\"What is the length of side 3? \"))\n",
    "    return side1 + side2 + side3\n",
    "\n",
    "print(calcArea())\n",
    "print(calcPerimeter())"
   ]
  },
  {
   "cell_type": "markdown",
   "id": "ebcc8f24",
   "metadata": {},
   "source": [
    "### Task2: Write a Python program to play “Guess the Number”. Your program should generate a random number between 1 and 1000 and then prompt the user for a guess. Possible responses to the guess should be ‘Too high! Guess again’, ‘Too low! Guess again’, and ‘Correct!’.\n"
   ]
  },
  {
   "cell_type": "code",
   "execution_count": null,
   "id": "06d26ad7",
   "metadata": {},
   "outputs": [],
   "source": [
    "import random\n",
    "def evalGuess(guess, num):\n",
    "    if guess > num:\n",
    "        print(\"Too High! Guess again!\")\n",
    "    elif guess < num:\n",
    "        print(\"Too low! Guess again!\")\n",
    "    else:\n",
    "        print(\"Correct!\")\n",
    "    \n",
    "        \n",
    "num = random.randint(1,1000)\n",
    "\n",
    "while True:\n",
    "    usr = int(input(\"Pick a number between 1-1000: \"))\n",
    "    evalGuess(usr, num)"
   ]
  },
  {
   "cell_type": "markdown",
   "id": "0baf96fa",
   "metadata": {},
   "source": [
    "### Task3: Write a Python program to calculate the mean temperature over a set of Fahrenheit temperature values. Your program should calculate the mean in a function called meanTemp()and then print message that indicates the number of days your mean represents and the mean (see below). Your function should be flexible so that you can pass any number of temperatures to it. You do not need to get input from the user; simply include the temperatures in the function parameter list."
   ]
  },
  {
   "cell_type": "code",
   "execution_count": 14,
   "id": "11048e17",
   "metadata": {},
   "outputs": [
    {
     "name": "stdout",
     "output_type": "stream",
     "text": [
      "Over a period of 7 days, the average temperature was 72.6\n"
     ]
    }
   ],
   "source": [
    "farTemps = [80, 78, 66, 67, 74, 75, 68]\n",
    "\n",
    "def meanTemp(*args):\n",
    "    print(f\"Over a period of {len(args)} days, the average temperature was {round(sum(args)/len(args), 1)}\")\n",
    "        \n",
    "meanTemp(80, 78, 66, 67, 74, 75, 68)"
   ]
  },
  {
   "cell_type": "code",
   "execution_count": null,
   "id": "f6f0a85c",
   "metadata": {},
   "outputs": [],
   "source": []
  }
 ],
 "metadata": {
  "kernelspec": {
   "display_name": "Python 3 (ipykernel)",
   "language": "python",
   "name": "python3"
  },
  "language_info": {
   "codemirror_mode": {
    "name": "ipython",
    "version": 3
   },
   "file_extension": ".py",
   "mimetype": "text/x-python",
   "name": "python",
   "nbconvert_exporter": "python",
   "pygments_lexer": "ipython3",
   "version": "3.11.4"
  }
 },
 "nbformat": 4,
 "nbformat_minor": 5
}
